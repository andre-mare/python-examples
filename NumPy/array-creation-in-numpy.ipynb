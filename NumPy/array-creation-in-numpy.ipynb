{
 "cells": [
  {
   "cell_type": "markdown",
   "id": "54e5b452-e3f4-41f9-bb50-8bf6d70491f3",
   "metadata": {},
   "source": [
    "# Logical Functions in NumPy\n",
    "\n",
    "![Arithmetic Operations in NumPy](https://upload.wikimedia.org/wikipedia/commons/thumb/3/31/NumPy_logo_2020.svg/1200px-NumPy_logo_2020.svg.png)"
   ]
  },
  {
   "cell_type": "markdown",
   "id": "9d22a5f6-5936-4a98-b32a-bc7009878471",
   "metadata": {},
   "source": [
    "NumPy offers a versatile set of tools for array creation, enabling users to initialize arrays efficiently with desired shapes, values, and patterns.\n",
    "\n",
    "These tools support a wide range of initialization methods, from creating arrays filled with zeros or ones to generating evenly spaced sequences, random values, or customized patterns. Functions like `zeros`, `ones`, `arange`, `linspace`, and `random` provide flexibility for diverse use cases, while advanced techniques such as reshaping and broadcasting allow for precise control over array dimensions.\n",
    "\n",
    "Designed with performance and scalability in mind, NumPy's array creation capabilities form the foundation for numerical computations and data processing tasks.\n",
    "\n",
    "For more information, see the [NumPy: Array Creation Routines](https://numpy.org/doc/stable/reference/routines.array-creation.html)."
   ]
  },
  {
   "cell_type": "markdown",
   "id": "dde31ec5-f3fa-491b-bae7-358d64eb998f",
   "metadata": {},
   "source": [
    "\n",
    "## 1. From Shape or Value\n",
    "\n",
    "Array creation \"From Shape or Value\" in NumPy focuses on generating arrays with specific shapes, sizes, or fill values. \n",
    "These functions allow for efficient initialization of arrays tailored to various computational needs, from uninitialised \n",
    "arrays to those filled with ones, zeros, or custom values.\n",
    "\n",
    "By using these methods, you can quickly create arrays with predefined characteristics or based on the attributes of \n",
    "existing arrays, streamlining workflows for numerical computations and data manipulation.\n",
    "\n",
    "For more details, see the [Array Creation Routines](https://numpy.org/doc/stable/reference/routines.array-creation.html#routines-array-creation).\n",
    "\n",
    "\n",
    "| Operation             | Function          | Description                                                                 | Documentation                                                                                           |\n",
    "|-----------------------|-------------------|-----------------------------------------------------------------------------|---------------------------------------------------------------------------------------------------------|\n",
    "| **Uninitialized**     | `np.empty()`      | Creates an uninitialized array of a given shape                             | [Link](https://numpy.org/doc/stable/reference/generated/numpy.empty.html#numpy.empty)                   |\n",
    "| **Uninitialized**     | `np.empty_like()` | Creates an uninitialized array based on the shape and type of a given array | [Link](https://numpy.org/doc/stable/reference/generated/numpy.empty_like.html#numpy.empty_like)         |\n",
    "| **Identity Matrix**   | `np.eye()`        | Creates a 2D array with ones on the diagonal and zeros elsewhere            | [Link](https://numpy.org/doc/stable/reference/generated/numpy.eye.html#numpy.eye)                       |\n",
    "| **Identity Matrix**   | `np.identity()`   | Returns a square identity matrix                                            | [Link](https://numpy.org/doc/stable/reference/generated/numpy.identity.html#numpy.identity)             |\n",
    "| **Filled with Ones**  | `np.ones()`       | Creates an array filled with ones                                           | [Link](https://numpy.org/doc/stable/reference/generated/numpy.ones.html#numpy.ones)                     |\n",
    "| **Filled with Ones**  | `np.ones_like()`  | Creates an array of ones based on a reference array                         | [Link](https://numpy.org/doc/stable/reference/generated/numpy.ones_like.html#numpy.ones_like)           |\n",
    "| **Filled with Zeros** | `np.zeros()`      | Creates an array filled with zeros                                          | [Link](https://numpy.org/doc/stable/reference/generated/numpy.zeros.html#numpy.zeros)                   |\n",
    "| **Filled with Zeros** | `np.zeros_like()` | Creates an array of zeros based on a reference array                        | [Link](https://numpy.org/doc/stable/reference/generated/numpy.zeros_like.html#numpy.zeros_like)         |\n",
    "| **Custom Fill Value** | `np.full()`       | Creates an array filled with a specific value                               | [Link](https://numpy.org/doc/stable/reference/generated/numpy.full.html#numpy.full)                     |\n",
    "| **Custom Fill Value** | `np.full_like()`  | Creates an array filled with a value based on a reference array             | [Link](https://numpy.org/doc/stable/reference/generated/numpy.full_like.html#numpy.full_like)           |\n"
   ]
  },
  {
   "cell_type": "markdown",
   "id": "4448ae27-d59e-49c6-a9cf-9709cf5907e9",
   "metadata": {},
   "source": [
    "### 1.1 Empty (np.empty)\n",
    "\n",
    "The `np.empty()` function in NumPy is used to create a new array of a specified shape and type without initializing its entries. This means that the array will contain arbitrary values (garbage values) based on the memory allocation, making it faster than other initialization methods.\n",
    "\n",
    "This function is particularly useful for scenarios where array values will be explicitly set later, and the initial content is irrelevant.\n",
    "\n",
    "**Example:**"
   ]
  },
  {
   "cell_type": "code",
   "execution_count": 3,
   "id": "3807b9b4-c37e-462a-9d10-0ca28c13f646",
   "metadata": {},
   "outputs": [
    {
     "name": "stdout",
     "output_type": "stream",
     "text": [
      "Uninitialized array with shape (2, 3):\n",
      " [[0. 0. 0.]\n",
      " [0. 0. 0.]]\n",
      "\n",
      "Uninitialized array with float dtype:\n",
      " [[0. 0. 0.]\n",
      " [0. 0. 0.]]\n"
     ]
    }
   ],
   "source": [
    "import numpy as np\n",
    "\n",
    "# Create an uninitialized array with shape (2, 3)\n",
    "uninitialized_array = np.empty((2, 3))\n",
    "\n",
    "# Create an uninitialized array with a specified data type\n",
    "uninitialized_float_array = np.empty((2, 3), dtype=float)\n",
    "\n",
    "# Print the arrays\n",
    "print(\"Uninitialized array with shape (2, 3):\\n\", uninitialized_array)\n",
    "print(\"\\nUninitialized array with float dtype:\\n\", uninitialized_float_array)"
   ]
  },
  {
   "cell_type": "markdown",
   "id": "d165b4e6",
   "metadata": {},
   "source": [
    "### 1.2 Empty Like (np.empty_like)\n",
    "\n",
    "The `np.empty_like()` function in NumPy creates a new array with the same shape and type as a specified prototype array. Similar to `np.empty()`, the entries of the array are uninitialized, meaning they contain arbitrary values from memory.\n",
    "\n",
    "This function is useful when you need to create an uninitialized array that matches the structure of an existing one, saving time and ensuring consistency in shape and type.\n",
    "\n",
    "**Example:**"
   ]
  },
  {
   "cell_type": "code",
   "execution_count": 1,
   "id": "fecdb85f",
   "metadata": {},
   "outputs": [
    {
     "name": "stdout",
     "output_type": "stream",
     "text": [
      "Prototype array:\n",
      " [[1 2 3]\n",
      " [4 5 6]]\n",
      "\n",
      "Uninitialized array with the same shape and type:\n",
      " [[0 0 0]\n",
      " [0 0 0]]\n",
      "\n",
      "Uninitialized array with the same shape but float dtype:\n",
      " [[0. 0. 0.]\n",
      " [0. 0. 0.]]\n"
     ]
    }
   ],
   "source": [
    "import numpy as np\n",
    "\n",
    "# Define a prototype array\n",
    "prototype_array = np.array([[1, 2, 3], [4, 5, 6]])\n",
    "\n",
    "# Create an uninitialized array with the same shape and type as the prototype\n",
    "uninitialized_like_array = np.empty_like(prototype_array)\n",
    "\n",
    "# Create an uninitialized array with the same shape but a different data type\n",
    "uninitialized_float_like_array = np.empty_like(prototype_array, dtype=float)\n",
    "\n",
    "# Print the arrays\n",
    "print(\"Prototype array:\\n\", prototype_array)\n",
    "print(\"\\nUninitialized array with the same shape and type:\\n\", uninitialized_like_array)\n",
    "print(\"\\nUninitialized array with the same shape but float dtype:\\n\", uninitialized_float_like_array)"
   ]
  },
  {
   "cell_type": "markdown",
   "id": "3a8eee4a",
   "metadata": {},
   "source": [
    "### 1.3 Eye (np.eye)\n",
    "\n",
    "The `np.eye()` function in NumPy creates a 2-D array with ones on its main diagonal and zeros elsewhere. It is commonly used to generate identity matrices or diagonal matrices for linear algebra operations.\n",
    "\n",
    "You can specify additional parameters like the number of rows (`N`), the number of columns (`M`), the diagonal offset (`k`), and the data type (`dtype`) to customize the array.\n",
    "\n",
    "**Example:**"
   ]
  },
  {
   "cell_type": "code",
   "execution_count": 1,
   "id": "26c5fcdd",
   "metadata": {},
   "outputs": [
    {
     "name": "stdout",
     "output_type": "stream",
     "text": [
      "3x3 Identity matrix:\n",
      " [[1. 0. 0.]\n",
      " [0. 1. 0.]\n",
      " [0. 0. 1.]]\n",
      "\n",
      "3x5 Rectangular matrix:\n",
      " [[1. 0. 0. 0. 0.]\n",
      " [0. 1. 0. 0. 0.]\n",
      " [0. 0. 1. 0. 0.]]\n",
      "\n",
      "Matrix with diagonal offset by 1:\n",
      " [[0. 1. 0. 0.]\n",
      " [0. 0. 1. 0.]\n",
      " [0. 0. 0. 1.]\n",
      " [0. 0. 0. 0.]]\n",
      "\n",
      "Matrix with diagonal offset by -1:\n",
      " [[0. 0. 0. 0.]\n",
      " [1. 0. 0. 0.]\n",
      " [0. 1. 0. 0.]\n",
      " [0. 0. 1. 0.]]\n"
     ]
    }
   ],
   "source": [
    "import numpy as np\n",
    "\n",
    "# Create a square identity matrix of size 3x3\n",
    "identity_matrix = np.eye(3)\n",
    "\n",
    "# Create a rectangular matrix with 3 rows and 5 columns\n",
    "rectangular_matrix = np.eye(3, 5)\n",
    "\n",
    "# Create a matrix with the diagonal offset by 1 (above the main diagonal)\n",
    "offset_diagonal_matrix = np.eye(4, k=1)\n",
    "\n",
    "# Create a matrix with the diagonal offset by -1 (below the main diagonal)\n",
    "lower_diagonal_matrix = np.eye(4, k=-1)\n",
    "\n",
    "# Print the matrices\n",
    "print(\"3x3 Identity matrix:\\n\", identity_matrix)\n",
    "print(\"\\n3x5 Rectangular matrix:\\n\", rectangular_matrix)\n",
    "print(\"\\nMatrix with diagonal offset by 1:\\n\", offset_diagonal_matrix)\n",
    "print(\"\\nMatrix with diagonal offset by -1:\\n\", lower_diagonal_matrix)"
   ]
  },
  {
   "cell_type": "markdown",
   "id": "fc652ff9",
   "metadata": {},
   "source": [
    "### 1.4 Identity (np.identity)\n",
    "\n",
    "The `np.identity()` function in NumPy creates a square identity matrix of size `n x n`. An identity matrix has ones on its main diagonal and zeros elsewhere, making it useful in various linear algebra applications.\n",
    "\n",
    "Unlike `np.eye()`, this function always generates a square matrix and does not allow customization of off-diagonal elements or rectangular shapes.\n",
    "\n",
    "**Example:**"
   ]
  },
  {
   "cell_type": "code",
   "execution_count": 2,
   "id": "fdd79978",
   "metadata": {},
   "outputs": [
    {
     "name": "stdout",
     "output_type": "stream",
     "text": [
      "3x3 Identity matrix:\n",
      " [[1. 0. 0.]\n",
      " [0. 1. 0.]\n",
      " [0. 0. 1.]]\n",
      "\n",
      "5x5 Identity matrix with float dtype:\n",
      " [[1. 0. 0. 0. 0.]\n",
      " [0. 1. 0. 0. 0.]\n",
      " [0. 0. 1. 0. 0.]\n",
      " [0. 0. 0. 1. 0.]\n",
      " [0. 0. 0. 0. 1.]]\n"
     ]
    }
   ],
   "source": [
    "import numpy as np\n",
    "\n",
    "# Create a 3x3 identity matrix\n",
    "identity_matrix_3x3 = np.identity(3)\n",
    "\n",
    "# Create a 5x5 identity matrix with float data type\n",
    "identity_matrix_5x5_float = np.identity(5, dtype=float)\n",
    "\n",
    "# Print the matrices\n",
    "print(\"3x3 Identity matrix:\\n\", identity_matrix_3x3)\n",
    "print(\"\\n5x5 Identity matrix with float dtype:\\n\", identity_matrix_5x5_float)"
   ]
  },
  {
   "cell_type": "markdown",
   "id": "e8863562",
   "metadata": {},
   "source": [
    "### 1.5 Ones (np.ones)\n",
    "\n",
    "The `np.ones()` function in NumPy creates a new array of a specified shape and type, filled entirely with ones. It is commonly used for initializing arrays where a constant value of one is required, such as in computations or as default values.\n",
    "\n",
    "You can customize the array's data type (`dtype`), memory layout (`order`), and other attributes for flexibility.\n",
    "\n",
    "**Example:**"
   ]
  },
  {
   "cell_type": "code",
   "execution_count": 3,
   "id": "e9f6cafd",
   "metadata": {},
   "outputs": [
    {
     "name": "stdout",
     "output_type": "stream",
     "text": [
      "2x3 Array filled with ones:\n",
      " [[1. 1. 1.]\n",
      " [1. 1. 1.]]\n",
      "\n",
      "3x3 Array filled with ones (float dtype):\n",
      " [[1. 1. 1.]\n",
      " [1. 1. 1.]\n",
      " [1. 1. 1.]]\n",
      "\n",
      "4x4 Array filled with ones (Fortran-style order):\n",
      " [[1. 1. 1. 1.]\n",
      " [1. 1. 1. 1.]\n",
      " [1. 1. 1. 1.]\n",
      " [1. 1. 1. 1.]]\n"
     ]
    }
   ],
   "source": [
    "import numpy as np\n",
    "\n",
    "# Create a 2x3 array filled with ones\n",
    "ones_array = np.ones((2, 3))\n",
    "\n",
    "# Create a 3x3 array filled with ones and specify the data type as float\n",
    "ones_float_array = np.ones((3, 3), dtype=float)\n",
    "\n",
    "# Create a 4x4 array with ones stored in column-major (Fortran-style) order\n",
    "ones_fortran_array = np.ones((4, 4), order='F')\n",
    "\n",
    "# Print the arrays\n",
    "print(\"2x3 Array filled with ones:\\n\", ones_array)\n",
    "print(\"\\n3x3 Array filled with ones (float dtype):\\n\", ones_float_array)\n",
    "print(\"\\n4x4 Array filled with ones (Fortran-style order):\\n\", ones_fortran_array)"
   ]
  },
  {
   "cell_type": "markdown",
   "id": "fcc915a8",
   "metadata": {},
   "source": [
    "### 1.6 Ones Like (np.ones_like)\n",
    "\n",
    "The `np.ones_like()` function in NumPy creates a new array of ones with the same shape and type as a given array. This function is particularly useful when you need an array filled with ones that matches the structure of an existing array.\n",
    "\n",
    "You can optionally specify a different data type (`dtype`), memory layout (`order`), or shape to customize the resulting array.\n",
    "\n",
    "**Example:**"
   ]
  },
  {
   "cell_type": "code",
   "execution_count": 4,
   "id": "d97e8cba",
   "metadata": {},
   "outputs": [
    {
     "name": "stdout",
     "output_type": "stream",
     "text": [
      "Array of ones with the same shape and type:\n",
      " [[1 1 1]\n",
      " [1 1 1]]\n",
      "\n",
      "Array of ones with float dtype:\n",
      " [[1. 1. 1.]\n",
      " [1. 1. 1.]]\n",
      "\n",
      "Array of ones with custom shape (3x2):\n",
      " [[1 1]\n",
      " [1 1]\n",
      " [1 1]]\n"
     ]
    }
   ],
   "source": [
    "import numpy as np\n",
    "\n",
    "# Define an existing array\n",
    "existing_array = np.array([[1, 2, 3], [4, 5, 6]])\n",
    "\n",
    "# Create an array of ones with the same shape and type as the existing array\n",
    "ones_like_array = np.ones_like(existing_array)\n",
    "\n",
    "# Create an array of ones with the same shape but specify the data type as float\n",
    "ones_like_float_array = np.ones_like(existing_array, dtype=float)\n",
    "\n",
    "# Create an array of ones with a custom shape based on the existing array\n",
    "ones_like_custom_shape = np.ones_like(existing_array, shape=(3, 2))\n",
    "\n",
    "# Print the arrays\n",
    "print(\"Array of ones with the same shape and type:\\n\", ones_like_array)\n",
    "print(\"\\nArray of ones with float dtype:\\n\", ones_like_float_array)\n",
    "print(\"\\nArray of ones with custom shape (3x2):\\n\", ones_like_custom_shape)"
   ]
  },
  {
   "cell_type": "markdown",
   "id": "4d6461f7",
   "metadata": {},
   "source": [
    "### 1.7 Zeros (np.zeros)\n",
    "\n",
    "The `np.zeros()` function in NumPy creates a new array of a specified shape and type, filled entirely with zeros. This function is commonly used to initialize arrays where a constant value of zero is required, such as in computations or default values.\n",
    "\n",
    "You can customize the data type (`dtype`), memory layout (`order`), and other attributes for flexibility.\n",
    "\n",
    "**Example:**"
   ]
  },
  {
   "cell_type": "code",
   "execution_count": 7,
   "id": "4a741872",
   "metadata": {},
   "outputs": [
    {
     "name": "stdout",
     "output_type": "stream",
     "text": [
      "2x3 Array filled with zeros:\n",
      " [[0. 0. 0.]\n",
      " [0. 0. 0.]]\n",
      "\n",
      "3x3 Array filled with zeros (float dtype):\n",
      " [[0. 0. 0.]\n",
      " [0. 0. 0.]\n",
      " [0. 0. 0.]]\n",
      "\n",
      "4x4 Array filled with zeros (Fortran-style order):\n",
      " [[0. 0. 0. 0.]\n",
      " [0. 0. 0. 0.]\n",
      " [0. 0. 0. 0.]\n",
      " [0. 0. 0. 0.]]\n"
     ]
    }
   ],
   "source": [
    "import numpy as np\n",
    "\n",
    "# Create a 2x3 array filled with zeros\n",
    "zeros_array = np.zeros((2, 3))\n",
    "\n",
    "# Create a 3x3 array filled with zeros and specify the data type as float\n",
    "zeros_float_array = np.zeros((3, 3), dtype=float)\n",
    "\n",
    "# Create a 4x4 array with zeros stored in column-major (Fortran-style) order\n",
    "zeros_fortran_array = np.zeros((4, 4), order='F')\n",
    "\n",
    "# Print the arrays\n",
    "print(\"2x3 Array filled with zeros:\\n\", zeros_array)\n",
    "print(\"\\n3x3 Array filled with zeros (float dtype):\\n\", zeros_float_array)\n",
    "print(\"\\n4x4 Array filled with zeros (Fortran-style order):\\n\", zeros_fortran_array)"
   ]
  },
  {
   "cell_type": "markdown",
   "id": "7c6a66a8",
   "metadata": {},
   "source": [
    "### 1.8 Zeros Like (np.zeros_like)\n",
    "\n",
    "The `np.zeros_like()` function in NumPy creates a new array filled with zeros, matching the shape and type of a specified array. This function is especially useful when you need an array of zeros that conforms to the structure of an existing array.\n",
    "\n",
    "You can optionally specify a different data type (`dtype`), memory layout (`order`), or shape to customize the resulting array.\n",
    "\n",
    "**Example:**"
   ]
  },
  {
   "cell_type": "code",
   "execution_count": 8,
   "id": "c896ee8a",
   "metadata": {},
   "outputs": [
    {
     "name": "stdout",
     "output_type": "stream",
     "text": [
      "Array of zeros with the same shape and type:\n",
      " [[0 0 0]\n",
      " [0 0 0]]\n",
      "\n",
      "Array of zeros with float dtype:\n",
      " [[0. 0. 0.]\n",
      " [0. 0. 0.]]\n",
      "\n",
      "Array of zeros with custom shape (3x2):\n",
      " [[0 0]\n",
      " [0 0]\n",
      " [0 0]]\n"
     ]
    }
   ],
   "source": [
    "import numpy as np\n",
    "\n",
    "# Define an existing array\n",
    "existing_array = np.array([[1, 2, 3], [4, 5, 6]])\n",
    "\n",
    "# Create an array of zeros with the same shape and type as the existing array\n",
    "zeros_like_array = np.zeros_like(existing_array)\n",
    "\n",
    "# Create an array of zeros with the same shape but specify the data type as float\n",
    "zeros_like_float_array = np.zeros_like(existing_array, dtype=float)\n",
    "\n",
    "# Create an array of zeros with a custom shape based on the existing array\n",
    "zeros_like_custom_shape = np.zeros_like(existing_array, shape=(3, 2))\n",
    "\n",
    "# Print the arrays\n",
    "print(\"Array of zeros with the same shape and type:\\n\", zeros_like_array)\n",
    "print(\"\\nArray of zeros with float dtype:\\n\", zeros_like_float_array)\n",
    "print(\"\\nArray of zeros with custom shape (3x2):\\n\", zeros_like_custom_shape)"
   ]
  },
  {
   "cell_type": "markdown",
   "id": "98b7a35d",
   "metadata": {},
   "source": [
    "### 1.9 Full (np.full)\n",
    "\n",
    "The `np.full()` function in NumPy creates a new array of a specified shape and type, filled with a user-defined value (`fill_value`). This method is useful for initializing arrays where all elements need to be set to the same constant value.\n",
    "\n",
    "You can customize the array's data type (`dtype`), memory layout (`order`), and other attributes to fit specific requirements.\n",
    "\n",
    "**Example:**"
   ]
  },
  {
   "cell_type": "code",
   "execution_count": 9,
   "id": "3b0eb757",
   "metadata": {},
   "outputs": [
    {
     "name": "stdout",
     "output_type": "stream",
     "text": [
      "2x3 Array filled with 7:\n",
      " [[7 7 7]\n",
      " [7 7 7]]\n",
      "\n",
      "4x4 Array filled with 3.14 (float dtype):\n",
      " [[3.14 3.14 3.14 3.14]\n",
      " [3.14 3.14 3.14 3.14]\n",
      " [3.14 3.14 3.14 3.14]\n",
      " [3.14 3.14 3.14 3.14]]\n",
      "\n",
      "3x3 Array filled with -1 (Fortran-style order):\n",
      " [[-1 -1 -1]\n",
      " [-1 -1 -1]\n",
      " [-1 -1 -1]]\n"
     ]
    }
   ],
   "source": [
    "import numpy as np\n",
    "\n",
    "# Create a 2x3 array filled with the value 7\n",
    "full_array = np.full((2, 3), 7)\n",
    "\n",
    "# Create a 4x4 array filled with the value 3.14 and specify the data type as float\n",
    "full_float_array = np.full((4, 4), 3.14, dtype=float)\n",
    "\n",
    "# Create a 3x3 array filled with -1 stored in column-major (Fortran-style) order\n",
    "full_fortran_array = np.full((3, 3), -1, order='F')\n",
    "\n",
    "# Print the arrays\n",
    "print(\"2x3 Array filled with 7:\\n\", full_array)\n",
    "print(\"\\n4x4 Array filled with 3.14 (float dtype):\\n\", full_float_array)\n",
    "print(\"\\n3x3 Array filled with -1 (Fortran-style order):\\n\", full_fortran_array)"
   ]
  },
  {
   "cell_type": "markdown",
   "id": "9a36352d",
   "metadata": {},
   "source": [
    "### 1.10 Full Like (np.full_like)\n",
    "\n",
    "The `np.full_like()` function in NumPy creates a new array filled with a user-defined value (`fill_value`), matching the shape and type of a given array. This method is useful when you need an array initialized with a specific value while preserving the structure of an existing array.\n",
    "\n",
    "You can optionally specify a different data type (`dtype`), memory layout (`order`), or shape to customize the resulting array.\n",
    "\n",
    "**Example:**"
   ]
  },
  {
   "cell_type": "code",
   "execution_count": 10,
   "id": "5b658065",
   "metadata": {},
   "outputs": [
    {
     "name": "stdout",
     "output_type": "stream",
     "text": [
      "Array filled with 7, matching shape and type:\n",
      " [[7 7 7]\n",
      " [7 7 7]]\n",
      "\n",
      "Array filled with 3.14 (float dtype):\n",
      " [[3.14 3.14 3.14]\n",
      " [3.14 3.14 3.14]]\n",
      "\n",
      "Array filled with -1 and custom shape (3x2):\n",
      " [[-1 -1]\n",
      " [-1 -1]\n",
      " [-1 -1]]\n"
     ]
    }
   ],
   "source": [
    "import numpy as np\n",
    "\n",
    "# Define an existing array\n",
    "existing_array = np.array([[1, 2, 3], [4, 5, 6]])\n",
    "\n",
    "# Create an array filled with the value 7, matching the shape and type of the existing array\n",
    "full_like_array = np.full_like(existing_array, 7)\n",
    "\n",
    "# Create an array filled with the value 3.14, matching the shape but specifying the data type as float\n",
    "full_like_float_array = np.full_like(existing_array, 3.14, dtype=float)\n",
    "\n",
    "# Create an array filled with the value -1, with a custom shape\n",
    "full_like_custom_shape = np.full_like(existing_array, -1, shape=(3, 2))\n",
    "\n",
    "# Print the arrays\n",
    "print(\"Array filled with 7, matching shape and type:\\n\", full_like_array)\n",
    "print(\"\\nArray filled with 3.14 (float dtype):\\n\", full_like_float_array)\n",
    "print(\"\\nArray filled with -1 and custom shape (3x2):\\n\", full_like_custom_shape)"
   ]
  },
  {
   "cell_type": "markdown",
   "id": "dae8ebee",
   "metadata": {},
   "source": [
    "## Summary\n",
    "\n",
    "NumPy's array creation routines are essential for initializing arrays efficiently, catering to various computational and data manipulation needs. These functions provide a foundation for generating arrays with specific values, shapes, and patterns, making them indispensable in tasks ranging from numerical analysis to scientific computing.\n",
    "\n",
    "Functions like `zeros`, `ones`, `arange`, and `linspace` enable seamless initialization of arrays, while random number generators and reshaping techniques add versatility to array handling. These tools not only simplify the process of creating arrays but also enhance performance when working with large datasets.\n",
    "\n",
    "In conclusion, NumPy's array creation capabilities empower users to build arrays with precision and efficiency, forming the backbone of effective numerical computations and data processing workflows.\n",
    " "
   ]
  }
 ],
 "metadata": {
  "kernelspec": {
   "display_name": "base",
   "language": "python",
   "name": "python3"
  },
  "language_info": {
   "codemirror_mode": {
    "name": "ipython",
    "version": 3
   },
   "file_extension": ".py",
   "mimetype": "text/x-python",
   "name": "python",
   "nbconvert_exporter": "python",
   "pygments_lexer": "ipython3",
   "version": "3.12.7"
  }
 },
 "nbformat": 4,
 "nbformat_minor": 5
}
