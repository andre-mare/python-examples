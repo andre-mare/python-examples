{
 "cells": [
  {
   "cell_type": "markdown",
   "id": "54e5b452-e3f4-41f9-bb50-8bf6d70491f3",
   "metadata": {},
   "source": [
    "# Logical Functions in NumPy\n",
    "\n",
    "![Arithmetic Operations in NumPy](https://upload.wikimedia.org/wikipedia/commons/thumb/3/31/NumPy_logo_2020.svg/1200px-NumPy_logo_2020.svg.png)"
   ]
  },
  {
   "cell_type": "markdown",
   "id": "9d22a5f6-5936-4a98-b32a-bc7009878471",
   "metadata": {},
   "source": [
    "NumPy offers a versatile set of tools for array creation, enabling users to initialize arrays efficiently with desired shapes, values, and patterns.\n",
    "\n",
    "These tools support a wide range of initialization methods, from creating arrays filled with zeros or ones to generating evenly spaced sequences, random values, or customized patterns. Functions like `zeros`, `ones`, `arange`, `linspace`, and `random` provide flexibility for diverse use cases, while advanced techniques such as reshaping and broadcasting allow for precise control over array dimensions.\n",
    "\n",
    "Designed with performance and scalability in mind, NumPy's array creation capabilities form the foundation for numerical computations and data processing tasks.\n",
    "\n",
    "For more information, see the [NumPy: Array Creation Routines](https://numpy.org/doc/stable/reference/routines.array-creation.html)."
   ]
  },
  {
   "cell_type": "markdown",
   "id": "dde31ec5-f3fa-491b-bae7-358d64eb998f",
   "metadata": {},
   "source": [
    "\n",
    "## 1. From Shape or Value\n",
    "\n",
    "Array creation \"From Shape or Value\" in NumPy focuses on generating arrays with specific shapes, sizes, or fill values. \n",
    "These functions allow for efficient initialization of arrays tailored to various computational needs, from uninitialised \n",
    "arrays to those filled with ones, zeros, or custom values.\n",
    "\n",
    "By using these methods, you can quickly create arrays with predefined characteristics or based on the attributes of \n",
    "existing arrays, streamlining workflows for numerical computations and data manipulation.\n",
    "\n",
    "For more details, see the [Array Creation Routines](https://numpy.org/doc/stable/reference/routines.array-creation.html#routines-array-creation).\n",
    "\n",
    "\n",
    "| Operation             | Function          | Description                                                                 | Documentation                                                                                           |\n",
    "|-----------------------|-------------------|-----------------------------------------------------------------------------|---------------------------------------------------------------------------------------------------------|\n",
    "| **Uninitialized**     | `np.empty()`      | Creates an uninitialized array of a given shape                             | [Link](https://numpy.org/doc/stable/reference/generated/numpy.empty.html#numpy.empty)                   |\n",
    "| **Uninitialized**     | `np.empty_like()` | Creates an uninitialized array based on the shape and type of a given array | [Link](https://numpy.org/doc/stable/reference/generated/numpy.empty_like.html#numpy.empty_like)         |\n",
    "| **Identity Matrix**   | `np.eye()`        | Creates a 2D array with ones on the diagonal and zeros elsewhere            | [Link](https://numpy.org/doc/stable/reference/generated/numpy.eye.html#numpy.eye)                       |\n",
    "| **Identity Matrix**   | `np.identity()`   | Returns a square identity matrix                                            | [Link](https://numpy.org/doc/stable/reference/generated/numpy.identity.html#numpy.identity)             |\n",
    "| **Filled with Ones**  | `np.ones()`       | Creates an array filled with ones                                           | [Link](https://numpy.org/doc/stable/reference/generated/numpy.ones.html#numpy.ones)                     |\n",
    "| **Filled with Ones**  | `np.ones_like()`  | Creates an array of ones based on a reference array                         | [Link](https://numpy.org/doc/stable/reference/generated/numpy.ones_like.html#numpy.ones_like)           |\n",
    "| **Filled with Zeros** | `np.zeros()`      | Creates an array filled with zeros                                          | [Link](https://numpy.org/doc/stable/reference/generated/numpy.zeros.html#numpy.zeros)                   |\n",
    "| **Filled with Zeros** | `np.zeros_like()` | Creates an array of zeros based on a reference array                        | [Link](https://numpy.org/doc/stable/reference/generated/numpy.zeros_like.html#numpy.zeros_like)         |\n",
    "| **Custom Fill Value** | `np.full()`       | Creates an array filled with a specific value                               | [Link](https://numpy.org/doc/stable/reference/generated/numpy.full.html#numpy.full)                     |\n",
    "| **Custom Fill Value** | `np.full_like()`  | Creates an array filled with a value based on a reference array             | [Link](https://numpy.org/doc/stable/reference/generated/numpy.full_like.html#numpy.full_like)           |\n"
   ]
  },
  {
   "cell_type": "markdown",
   "id": "4448ae27-d59e-49c6-a9cf-9709cf5907e9",
   "metadata": {},
   "source": [
    "### 1.1 Empty (np.empty)\n",
    "\n",
    "The `np.empty()` function in NumPy is used to create a new array of a specified shape and type without initializing its entries. This means that the array will contain arbitrary values (garbage values) based on the memory allocation, making it faster than other initialization methods.\n",
    "\n",
    "This function is particularly useful for scenarios where array values will be explicitly set later, and the initial content is irrelevant.\n",
    "\n",
    "**Example:**"
   ]
  },
  {
   "cell_type": "code",
   "execution_count": 3,
   "id": "3807b9b4-c37e-462a-9d10-0ca28c13f646",
   "metadata": {},
   "outputs": [
    {
     "name": "stdout",
     "output_type": "stream",
     "text": [
      "Uninitialized array with shape (2, 3):\n",
      " [[0. 0. 0.]\n",
      " [0. 0. 0.]]\n",
      "\n",
      "Uninitialized array with float dtype:\n",
      " [[0. 0. 0.]\n",
      " [0. 0. 0.]]\n"
     ]
    }
   ],
   "source": [
    "import numpy as np\n",
    "\n",
    "# Create an uninitialized array with shape (2, 3)\n",
    "uninitialized_array = np.empty((2, 3))\n",
    "\n",
    "# Create an uninitialized array with a specified data type\n",
    "uninitialized_float_array = np.empty((2, 3), dtype=float)\n",
    "\n",
    "# Print the arrays\n",
    "print(\"Uninitialized array with shape (2, 3):\\n\", uninitialized_array)\n",
    "print(\"\\nUninitialized array with float dtype:\\n\", uninitialized_float_array)"
   ]
  },
  {
   "cell_type": "markdown",
   "id": "d165b4e6",
   "metadata": {},
   "source": [
    "### 1.2 Empty Like (np.empty_like)\n",
    "\n",
    "The `np.empty_like()` function in NumPy creates a new array with the same shape and type as a specified prototype array. Similar to `np.empty()`, the entries of the array are uninitialized, meaning they contain arbitrary values from memory.\n",
    "\n",
    "This function is useful when you need to create an uninitialized array that matches the structure of an existing one, saving time and ensuring consistency in shape and type.\n",
    "\n",
    "**Example:**"
   ]
  },
  {
   "cell_type": "code",
   "execution_count": 1,
   "id": "fecdb85f",
   "metadata": {},
   "outputs": [
    {
     "name": "stdout",
     "output_type": "stream",
     "text": [
      "Prototype array:\n",
      " [[1 2 3]\n",
      " [4 5 6]]\n",
      "\n",
      "Uninitialized array with the same shape and type:\n",
      " [[0 0 0]\n",
      " [0 0 0]]\n",
      "\n",
      "Uninitialized array with the same shape but float dtype:\n",
      " [[0. 0. 0.]\n",
      " [0. 0. 0.]]\n"
     ]
    }
   ],
   "source": [
    "import numpy as np\n",
    "\n",
    "# Define a prototype array\n",
    "prototype_array = np.array([[1, 2, 3], [4, 5, 6]])\n",
    "\n",
    "# Create an uninitialized array with the same shape and type as the prototype\n",
    "uninitialized_like_array = np.empty_like(prototype_array)\n",
    "\n",
    "# Create an uninitialized array with the same shape but a different data type\n",
    "uninitialized_float_like_array = np.empty_like(prototype_array, dtype=float)\n",
    "\n",
    "# Print the arrays\n",
    "print(\"Prototype array:\\n\", prototype_array)\n",
    "print(\"\\nUninitialized array with the same shape and type:\\n\", uninitialized_like_array)\n",
    "print(\"\\nUninitialized array with the same shape but float dtype:\\n\", uninitialized_float_like_array)"
   ]
  },
  {
   "cell_type": "markdown",
   "id": "dae8ebee",
   "metadata": {},
   "source": [
    "## Summary\n",
    "\n",
    "NumPy's array creation routines are essential for initializing arrays efficiently, catering to various computational and data manipulation needs. These functions provide a foundation for generating arrays with specific values, shapes, and patterns, making them indispensable in tasks ranging from numerical analysis to scientific computing.\n",
    "\n",
    "Functions like `zeros`, `ones`, `arange`, and `linspace` enable seamless initialization of arrays, while random number generators and reshaping techniques add versatility to array handling. These tools not only simplify the process of creating arrays but also enhance performance when working with large datasets.\n",
    "\n",
    "In conclusion, NumPy's array creation capabilities empower users to build arrays with precision and efficiency, forming the backbone of effective numerical computations and data processing workflows.\n",
    " "
   ]
  }
 ],
 "metadata": {
  "kernelspec": {
   "display_name": "base",
   "language": "python",
   "name": "python3"
  },
  "language_info": {
   "codemirror_mode": {
    "name": "ipython",
    "version": 3
   },
   "file_extension": ".py",
   "mimetype": "text/x-python",
   "name": "python",
   "nbconvert_exporter": "python",
   "pygments_lexer": "ipython3",
   "version": "3.12.7"
  }
 },
 "nbformat": 4,
 "nbformat_minor": 5
}
